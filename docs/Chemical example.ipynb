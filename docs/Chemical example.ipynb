{
 "cells": [
  {
   "cell_type": "code",
   "execution_count": 1,
   "metadata": {},
   "outputs": [
    {
     "name": "stdout",
     "output_type": "stream",
     "text": [
      "Chemical: Water (phase_ref='l')\n",
      "[Names]  CAS: 7732-18-5\n",
      "         InChI: H2O/h1H2\n",
      "         InChI_key: XLYOFNOQVPJJNP-U...\n",
      "         common_name: water\n",
      "         iupac_name: oxidane\n",
      "         pubchemid: 962\n",
      "         smiles: O\n",
      "[Groups] UNIFAC_Dortmund: {16: 1}\n",
      "         UNIFAC: {16: 1}\n",
      "         PSRK: {16: 1}\n",
      "[Thermo] S_excess(phase, T, P) -> J/mol\n",
      "         H_excess(phase, T, P) -> J/mol\n",
      "         k(phase, T, P) -> W/m/K\n",
      "         V(phase, T, P) -> m^3/mol\n",
      "         S(phase, T, P) -> J/mol\n",
      "         H(phase, T) -> J/mol\n",
      "         Cp(phase, T) -> J/mol/K\n",
      "         mu(phase, T, P) -> Pa*s\n",
      "         Psat(T) -> Pa\n",
      "         Hvap(T) -> J/mol\n",
      "         sigma(T) -> N/m\n",
      "         epsilon(T)\n",
      "[Data]   MW: 18.015 g/mol\n",
      "         Tm: 273.15 K\n",
      "         Tb: 373.12 K\n",
      "         Tt: 273.15 K\n",
      "         Tc: 647.14 K\n",
      "         Pc: 2.2048e+07 Pa\n",
      "         Vc: 5.6e-05 m^3/mol\n",
      "         Zc: 0.22947\n",
      "         Hf: -2.4182e+05 J/mol\n",
      "         Hfus: 6010 J/mol\n",
      "         rhoc: 17857 kg/m^3\n",
      "         omega: 0.344\n",
      "         dipole: 1.85\n",
      "         similarity_variable: 0.16653\n"
     ]
    }
   ],
   "source": [
    "from thermotree import Chemical\n",
    "water = Chemical('Water')\n",
    "water"
   ]
  },
  {
   "cell_type": "code",
   "execution_count": 2,
   "metadata": {},
   "outputs": [
    {
     "data": {
      "text/plain": [
       "101284.55179999319"
      ]
     },
     "execution_count": 2,
     "metadata": {},
     "output_type": "execute_result"
    }
   ],
   "source": [
    "water.Psat(373.15) # About 101325 Pa"
   ]
  },
  {
   "cell_type": "code",
   "execution_count": 3,
   "metadata": {},
   "outputs": [
    {
     "data": {
      "text/plain": [
       "1.687456798143492e-05"
      ]
     },
     "execution_count": 3,
     "metadata": {},
     "output_type": "execute_result"
    }
   ],
   "source": [
    "water.V('l', 298.15, 101325.) # About 1.7e-5 m3/mol"
   ]
  },
  {
   "cell_type": "code",
   "execution_count": 4,
   "metadata": {},
   "outputs": [
    {
     "data": {
      "text/plain": [
       "<ChemicalPhaseTPProperty(phase, T, P) -> V (m^3/mol)>"
      ]
     },
     "execution_count": 4,
     "metadata": {},
     "output_type": "execute_result"
    }
   ],
   "source": [
    "water.V"
   ]
  },
  {
   "cell_type": "code",
   "execution_count": 5,
   "metadata": {},
   "outputs": [
    {
     "name": "stdout",
     "output_type": "stream",
     "text": [
      "TPDependentModelHandle(T, P=101325.0) -> V.l (m^3/mol)\n",
      "[0] Rackett\n",
      "[1] Costald\n",
      "[2] VDI_PPDS\n",
      "[3] Costald_Compressed\n",
      "[4] Yen_Woods\n",
      "[5] Rackett\n",
      "[6] Yamada_Gunn\n",
      "[7] Bhirud_Normal\n",
      "[8] Townsend_Hales\n",
      "[9] Rackett\n",
      "[10] SNM0\n",
      "[11] Campbell_Thodos\n",
      "[12] CRC_inorganic_liquid_constant\n"
     ]
    }
   ],
   "source": [
    "water.V.l"
   ]
  },
  {
   "cell_type": "code",
   "execution_count": 6,
   "metadata": {},
   "outputs": [
    {
     "name": "stdout",
     "output_type": "stream",
     "text": [
      "TDependentModel: Rackett\n",
      " evaluate: Rackett(T, P=None) -> V.l (m^3/mol)\n",
      " Tmin: 50.00\n",
      " Tmax: 1000.00\n"
     ]
    }
   ],
   "source": [
    "water.V.l.models[0]"
   ]
  },
  {
   "cell_type": "code",
   "execution_count": 7,
   "metadata": {},
   "outputs": [
    {
     "name": "stdout",
     "output_type": "stream",
     "text": [
      "Functor: Rackett(T, P=None) -> V.l (m^3/mol)\n",
      " Tc: 647.14 K\n",
      " Pc: 2.2048e+07 Pa\n",
      " Zc: 0.2338\n"
     ]
    }
   ],
   "source": [
    "water.V.l.models[0].evaluate"
   ]
  },
  {
   "cell_type": "code",
   "execution_count": 8,
   "metadata": {},
   "outputs": [
    {
     "data": {
      "text/plain": [
       "{'Tc': 647.14, 'Pc': 22048320.0, 'Zc': 0.2338}"
      ]
     },
     "execution_count": 8,
     "metadata": {},
     "output_type": "execute_result"
    }
   ],
   "source": [
    "water.V.l.models[0].evaluate.data"
   ]
  },
  {
   "cell_type": "code",
   "execution_count": 9,
   "metadata": {},
   "outputs": [
    {
     "data": {
      "text/plain": [
       "CPUDispatcher(<function Rackett at 0x00000114286CAC80>)"
      ]
     },
     "execution_count": 9,
     "metadata": {},
     "output_type": "execute_result"
    }
   ],
   "source": [
    "water.V.l.models[0].evaluate.function"
   ]
  }
 ],
 "metadata": {
  "kernelspec": {
   "display_name": "Python 3",
   "language": "python",
   "name": "python3"
  },
  "language_info": {
   "codemirror_mode": {
    "name": "ipython",
    "version": 3
   },
   "file_extension": ".py",
   "mimetype": "text/x-python",
   "name": "python",
   "nbconvert_exporter": "python",
   "pygments_lexer": "ipython3",
   "version": "3.6.5"
  }
 },
 "nbformat": 4,
 "nbformat_minor": 2
}
