{
 "cells": [
  {
   "cell_type": "markdown",
   "metadata": {},
   "source": [
    "# chemicals: the thermodynamic property package builder"
   ]
  },
  {
   "cell_type": "markdown",
   "metadata": {},
   "source": [
    "**chemicals is a Functor oriented package that organizes data into functors, avoiding circular references and creating a tree-like data-structure.**"
   ]
  },
  {
   "cell_type": "markdown",
   "metadata": {},
   "source": [
    "Chemical objects contain pure component properties:"
   ]
  },
  {
   "cell_type": "code",
   "execution_count": 1,
   "metadata": {},
   "outputs": [
    {
     "name": "stdout",
     "output_type": "stream",
     "text": [
      "Chemical: Water (phase_ref='l')\n",
      "[Names]  CAS: 7732-18-5\n",
      "         InChI: H2O/h1H2\n",
      "         InChI_key: XLYOFNOQVPJJNP-U...\n",
      "         common_name: water\n",
      "         iupac_name: oxidane\n",
      "         pubchemid: 962\n",
      "         smiles: O\n",
      "[Groups] Dortmund: <1H2O>\n",
      "         UNIFAC: <1H2O>\n",
      "         PSRK: <1H2O>\n",
      "[Thermo] S_excess(phase, T, P) -> J/mol\n",
      "         H_excess(phase, T, P) -> J/mol\n",
      "         mu(phase, T, P) -> Pa*s\n",
      "         k(phase, T, P) -> W/m/K\n",
      "         V(phase, T, P) -> m^3/mol\n",
      "         S(phase, T, P) -> J/mol\n",
      "         H(phase, T) -> J/mol\n",
      "         Cp(phase, T) -> J/mol/K\n",
      "         Psat(T) -> Pa\n",
      "         Hvap(T) -> J/mol\n",
      "         sigma(T) -> N/m\n",
      "         epsilon(T)\n",
      "[Data]   MW: 18.015 g/mol\n",
      "         Tm: 273.15 K\n",
      "         Tb: 373.12 K\n",
      "         Tt: 273.15 K\n",
      "         Tc: 647.14 K\n",
      "         Pc: 2.2048e+07 Pa\n",
      "         Vc: 5.6e-05 m^3/mol\n",
      "         Zc: 0.22947\n",
      "         Hf: -2.4182e+05 J/mol\n",
      "         Hfus: 6010 J/mol\n",
      "         rhoc: 17857 kg/m^3\n",
      "         omega: 0.344\n",
      "         dipole: 1.85\n",
      "         similarity_variable: 0.16653\n"
     ]
    }
   ],
   "source": [
    "import chemicals as cm\n",
    "water = cm.Chemical('Water')\n",
    "water"
   ]
  },
  {
   "cell_type": "markdown",
   "metadata": {},
   "source": [
    "Temperature, pressure dependent properties are managed by model handles (a functor):"
   ]
  },
  {
   "cell_type": "code",
   "execution_count": 2,
   "metadata": {},
   "outputs": [
    {
     "name": "stdout",
     "output_type": "stream",
     "text": [
      "TDependentModelHandle(T) -> Psat [Pa]\n",
      "[0] Wagner_McGarry\n",
      "[1] Antoine\n",
      "[2] DIPPR_EQ101\n",
      "[3] Wagner\n",
      "[4] Boiling_Critical_Relation\n",
      "[5] Lee_Kesler\n",
      "[6] Ambrose_Walton\n",
      "[7] Sanjari\n",
      "[8] Edalat\n"
     ]
    }
   ],
   "source": [
    "water.Psat"
   ]
  },
  {
   "cell_type": "code",
   "execution_count": 3,
   "metadata": {},
   "outputs": [
    {
     "data": {
      "text/plain": [
       "101284.55179999319"
      ]
     },
     "execution_count": 3,
     "metadata": {},
     "output_type": "execute_result"
    }
   ],
   "source": [
    "water.Psat(373.15)"
   ]
  },
  {
   "cell_type": "markdown",
   "metadata": {},
   "source": [
    "A model handle contains a series of models applicable to certain conditions:"
   ]
  },
  {
   "cell_type": "code",
   "execution_count": 4,
   "metadata": {},
   "outputs": [
    {
     "name": "stdout",
     "output_type": "stream",
     "text": [
      "TDependentModel: Wagner_McGarry\n",
      " evaluate: Wagner_McGarry(T, P=None) -> Psat [Pa]\n",
      " Tmin: 275.00\n",
      " Tmax: 647.35\n"
     ]
    }
   ],
   "source": [
    "water.Psat[0]"
   ]
  },
  {
   "cell_type": "markdown",
   "metadata": {},
   "source": [
    "A model contains a functor with the data and a compiled function:"
   ]
  },
  {
   "cell_type": "code",
   "execution_count": 5,
   "metadata": {},
   "outputs": [
    {
     "name": "stdout",
     "output_type": "stream",
     "text": [
      "Functor: Wagner_McGarry(T, P=None) -> Psat [Pa]\n",
      " a: -7.7645\n",
      " b: 1.4584\n",
      " c: -2.7758\n",
      " d: -1.233\n",
      " Tc: 647.35 K\n",
      " Pc: 2.2122e+07 Pa\n"
     ]
    }
   ],
   "source": [
    "water.Psat[0].evaluate"
   ]
  },
  {
   "cell_type": "code",
   "execution_count": 6,
   "metadata": {},
   "outputs": [
    {
     "data": {
      "text/plain": [
       "{'a': -7.7645100000000005,\n",
       " 'b': 1.45838,\n",
       " 'c': -2.7758,\n",
       " 'd': -1.2330299999999998,\n",
       " 'Tc': 647.35,\n",
       " 'Pc': 22122300}"
      ]
     },
     "execution_count": 6,
     "metadata": {},
     "output_type": "execute_result"
    }
   ],
   "source": [
    "water.Psat[0].evaluate.data"
   ]
  },
  {
   "cell_type": "code",
   "execution_count": 7,
   "metadata": {},
   "outputs": [
    {
     "data": {
      "text/plain": [
       "CPUDispatcher(<function Wagner_McGarry at 0x000001741DD44A60>)"
      ]
     },
     "execution_count": 7,
     "metadata": {},
     "output_type": "execute_result"
    }
   ],
   "source": [
    "water.Psat[0].evaluate.function"
   ]
  },
  {
   "cell_type": "markdown",
   "metadata": {},
   "source": [
    "Phase dependent properties contain model handles for each phase:"
   ]
  },
  {
   "cell_type": "code",
   "execution_count": 8,
   "metadata": {},
   "outputs": [
    {
     "data": {
      "text/plain": [
       "<ChemicalPhaseTPProperty(phase, T, P) -> V [m^3/mol]>"
      ]
     },
     "execution_count": 8,
     "metadata": {},
     "output_type": "execute_result"
    }
   ],
   "source": [
    "water.V"
   ]
  },
  {
   "cell_type": "code",
   "execution_count": 9,
   "metadata": {},
   "outputs": [
    {
     "data": {
      "text/plain": [
       "1.687456798143492e-05"
      ]
     },
     "execution_count": 9,
     "metadata": {},
     "output_type": "execute_result"
    }
   ],
   "source": [
    "water.V('l', 298.15, 101325.) # About 1.7e-5 m3/mol"
   ]
  },
  {
   "cell_type": "code",
   "execution_count": 10,
   "metadata": {},
   "outputs": [
    {
     "name": "stdout",
     "output_type": "stream",
     "text": [
      "TPDependentModelHandle(T, P=101325.0) -> V.l [m^3/mol]\n",
      "[0] Rackett\n",
      "[1] Costald\n",
      "[2] VDI_PPDS\n",
      "[3] Costald_Compressed\n",
      "[4] Yen_Woods\n",
      "[5] Rackett\n",
      "[6] Yamada_Gunn\n",
      "[7] Bhirud_Normal\n",
      "[8] Townsend_Hales\n",
      "[9] Rackett\n",
      "[10] SNM0\n",
      "[11] Campbell_Thodos\n",
      "[12] CRC_inorganic_liquid_constant\n"
     ]
    }
   ],
   "source": [
    "water.V.l"
   ]
  },
  {
   "cell_type": "markdown",
   "metadata": {},
   "source": [
    "Note: It is not required to use these functors. They can be replaced by your own function or even a constant."
   ]
  },
  {
   "cell_type": "markdown",
   "metadata": {},
   "source": [
    "In the next example, we make an ideal mixture property package from chemicals, some of which contain constant values fo"
   ]
  },
  {
   "cell_type": "code",
   "execution_count": 11,
   "metadata": {},
   "outputs": [
    {
     "name": "stdout",
     "output_type": "stream",
     "text": [
      "IdealMixture: Water, Ethanol, Methanol, Lignin\n",
      " H_excess(phase, z, T, P) -> J/mol\n",
      " S_excess(phase, z, T, P) -> J/mol\n",
      " mu(phase, z, T, P) -> Pa*s\n",
      " V(phase, z, T, P) -> m^3/mol\n",
      " k(phase, z, T, P) -> W/m/K\n",
      " S(phase, z, T, P) -> J/mol\n",
      " H(phase, z, T) -> J/mol\n",
      " Cp(phase, z, T) -> J/mol/K\n",
      " Hvap(z, T) -> J/mol\n",
      " sigma(z, T) -> N/m\n",
      " epsilon(z, T)\n"
     ]
    }
   ],
   "source": [
    "water =  cm.Chemical('Water')\n",
    "ethanol = cm.Chemical('Ethanol')\n",
    "methanol = cm.Chemical('Methanol')\n",
    "lignin = cm.Chemical('Lignin')\n",
    "ideal_mixture = cm.IdealMixture(chemicals=(water, ethanol, methanol, lignin))\n",
    "ideal_mixture"
   ]
  },
  {
   "cell_type": "code",
   "execution_count": 12,
   "metadata": {},
   "outputs": [
    {
     "data": {
      "text/plain": [
       "<IdealMixturePhaseTProperty(phase, z, T) -> H [J/mol]>"
      ]
     },
     "execution_count": 12,
     "metadata": {},
     "output_type": "execute_result"
    }
   ],
   "source": [
    "ideal_mixture.H"
   ]
  },
  {
   "cell_type": "code",
   "execution_count": 13,
   "metadata": {},
   "outputs": [
    {
     "data": {
      "text/plain": [
       "54404.253795065866"
      ]
     },
     "execution_count": 13,
     "metadata": {},
     "output_type": "execute_result"
    }
   ],
   "source": [
    "ideal_mixture.H('l', [0.1, 0.2, 0.3, 0.4], 350)"
   ]
  }
 ],
 "metadata": {
  "kernelspec": {
   "display_name": "Python 3",
   "language": "python",
   "name": "python3"
  },
  "language_info": {
   "codemirror_mode": {
    "name": "ipython",
    "version": 3
   },
   "file_extension": ".py",
   "mimetype": "text/x-python",
   "name": "python",
   "nbconvert_exporter": "python",
   "pygments_lexer": "ipython3",
   "version": "3.6.5"
  }
 },
 "nbformat": 4,
 "nbformat_minor": 2
}
